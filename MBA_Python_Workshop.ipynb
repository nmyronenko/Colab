{
  "nbformat": 4,
  "nbformat_minor": 0,
  "metadata": {
    "colab": {
      "provenance": [],
      "authorship_tag": "ABX9TyMFppY4aYZ1HsjgI5eMhboi",
      "include_colab_link": true
    },
    "kernelspec": {
      "name": "python3",
      "display_name": "Python 3"
    },
    "language_info": {
      "name": "python"
    }
  },
  "cells": [
    {
      "cell_type": "markdown",
      "metadata": {
        "id": "view-in-github",
        "colab_type": "text"
      },
      "source": [
        "<a href=\"https://colab.research.google.com/github/nmyronenko/Colab/blob/main/MBA_Python_Workshop.ipynb\" target=\"_parent\"><img src=\"https://colab.research.google.com/assets/colab-badge.svg\" alt=\"Open In Colab\"/></a>"
      ]
    },
    {
      "cell_type": "code",
      "execution_count": 2,
      "metadata": {
        "colab": {
          "base_uri": "https://localhost:8080/"
        },
        "id": "FNYYYRtLXBCy",
        "outputId": "02635cc7-39a3-43e0-e4a5-1440d075eb94"
      },
      "outputs": [
        {
          "output_type": "stream",
          "name": "stdout",
          "text": [
            "Hello Jupyter!\n"
          ]
        }
      ],
      "source": [
        "print (\"Hello Jupyter!\")"
      ]
    },
    {
      "cell_type": "markdown",
      "source": [
        "# I can write anything I want"
      ],
      "metadata": {
        "id": "xyMaVA4IX0UC"
      }
    },
    {
      "cell_type": "markdown",
      "source": [
        "To make text bold use **double asterisks** or __double underscores__.\n",
        "\n",
        "To make text italic use *asterisks* or _underscores_.\n",
        "\n",
        "To make text ^superscript^ use ^caret^.\n",
        "\n",
        "To make text ~subscript~ use ~tilde~.\n",
        "\n",
        "To mark text as inline code use `backticks`. backticks are `\n",
        "\n",
        "To ~~strikethrough~~ text use ~~double tilde~~. tilde is ~\n"
      ],
      "metadata": {
        "id": "JXdbXnLQYr_E"
      }
    },
    {
      "cell_type": "markdown",
      "source": [
        "# 1,500 scientists lift the lid on reproducibility\n",
        "**Monya Baker**\n",
        "\n",
        "\n",
        "More than 70% of researchers have tried and failed to reproduce another scientist's experiments, and more than half have failed to reproduce their own experiments. Those are some of the telling figures that emerged from Nature's survey of 1,576 researchers who took a brief online questionnaire on reproducibility in research."
      ],
      "metadata": {
        "id": "fFWr0xBqZUCX"
      }
    },
    {
      "cell_type": "markdown",
      "source": [
        "* Item 1\n",
        "* Item 2\n",
        "* Item 3\n",
        "    * Item 3a\n",
        "        * Item 3ai\n",
        "        * Item 3aii\n",
        "    * Item 3b\n",
        "    * Item 3c\n",
        "* Item 4"
      ],
      "metadata": {
        "id": "hKv4k4VeZqRY"
      }
    },
    {
      "cell_type": "markdown",
      "source": [],
      "metadata": {
        "id": "aPAM0MfcarIp"
      }
    },
    {
      "cell_type": "markdown",
      "source": [],
      "metadata": {
        "id": "Ej4TB7uearJ6"
      }
    },
    {
      "cell_type": "markdown",
      "source": [],
      "metadata": {
        "id": "LN1SaQxoarLH"
      }
    },
    {
      "cell_type": "code",
      "source": [],
      "metadata": {
        "id": "lR_SzVVparMr"
      },
      "execution_count": null,
      "outputs": []
    },
    {
      "cell_type": "code",
      "source": [],
      "metadata": {
        "colab": {
          "base_uri": "https://localhost:8080/",
          "height": 106
        },
        "id": "4gFFVEdcbNz0",
        "outputId": "8db4e24d-2335-4572-9a7a-6c02b188d553"
      },
      "execution_count": 3,
      "outputs": [
        {
          "output_type": "error",
          "ename": "SyntaxError",
          "evalue": "Missing parentheses in call to 'print'. Did you mean print(...)? (<ipython-input-3-1dbe4fb544de>, line 1)",
          "traceback": [
            "\u001b[0;36m  File \u001b[0;32m\"<ipython-input-3-1dbe4fb544de>\"\u001b[0;36m, line \u001b[0;32m1\u001b[0m\n\u001b[0;31m    print a scatter plot\u001b[0m\n\u001b[0m    ^\u001b[0m\n\u001b[0;31mSyntaxError\u001b[0m\u001b[0;31m:\u001b[0m Missing parentheses in call to 'print'. Did you mean print(...)?\n"
          ]
        }
      ]
    },
    {
      "cell_type": "code",
      "source": [
        "# prompt: print a scatter plot\n",
        "\n",
        "import matplotlib.pyplot as plt\n",
        "import numpy as np\n",
        "\n",
        "# Generate some random data\n",
        "np.random.seed(0)\n",
        "x = np.random.rand(50)\n",
        "y = np.random.rand(50)\n",
        "\n",
        "# Create the scatter plot\n",
        "plt.scatter(x, y)\n",
        "\n",
        "# Add labels and title\n",
        "plt.xlabel('X-axis')\n",
        "plt.ylabel('Y-axis')\n",
        "plt.title('Scatter Plot of Random Data')\n",
        "\n",
        "# Display the plot\n",
        "plt.show()\n"
      ],
      "metadata": {
        "colab": {
          "base_uri": "https://localhost:8080/",
          "height": 472
        },
        "id": "kkSmhEUhbaQd",
        "outputId": "e78ac0b4-958f-4000-cb5d-be55ea8c0d31"
      },
      "execution_count": 4,
      "outputs": [
        {
          "output_type": "display_data",
          "data": {
            "text/plain": [
              "<Figure size 640x480 with 1 Axes>"
            ],
            "image/png": "[encoded data removed]"
          },
          "metadata": {}
        }
      ]
    },
    {
      "cell_type": "markdown",
      "source": [
        "![Jupyter Logo](dowloads/jupyter.png)"
      ],
      "metadata": {
        "id": "8Uw7OBByarNu"
      }
    },
    {
      "cell_type": "markdown",
      "source": [],
      "metadata": {
        "id": "wzxRmuijbG5c"
      }
    }
  ]
}